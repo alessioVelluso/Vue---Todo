{
 "cells": [
  {
   "cell_type": "markdown",
   "id": "6324ff5a",
   "metadata": {},
   "source": [
    "<h1 style=\"\n",
    "    background: linear-gradient(to right, #30E8BF, #FF8235);\n",
    "    padding: 6rem 2rem 2rem 2rem;\n",
    "    border-radius: 10px 10px 0 0;\n",
    "    font-size: 6rem\n",
    "\">\n",
    "    VUE-TODO 2023\n",
    "</h1>"
   ]
  },
  {
   "cell_type": "markdown",
   "id": "6a4e3c50",
   "metadata": {},
   "source": [
    "<div style=\"background-color: #EEEEEE; padding: 2rem; font-size: 2rem; line-height: 3rem;\">\n",
    "    <h2>INDEX</h2>\n",
    "    <ul>\n",
    "        <li><a href=\"#configSection\">Config</a></li>\n",
    "        <li><a href=\"#router\">Router</a></li>\n",
    "        <li><a href=\"#vuetify\">Vuetify</a></li>\n",
    "        <li><a href=\"#pinia\">Pinia</a></li>\n",
    "    </ul>\n",
    "</div>"
   ]
  },
  {
   "cell_type": "markdown",
   "id": "ff9ae55d",
   "metadata": {},
   "source": [
    "<br>\n",
    "<br>\n",
    "<br>"
   ]
  },
  {
   "cell_type": "markdown",
   "id": "db8871d9",
   "metadata": {},
   "source": [
    "<h2 style=\"\n",
    "    font-size: 2.6rem; \n",
    "   color: white;\n",
    "    background-color: black;\n",
    "    padding: 2rem;\n",
    "\" id=\"configSection\">\n",
    "    CONFIG\n",
    "</h2>"
   ]
  },
  {
   "cell_type": "markdown",
   "id": "dbd37905",
   "metadata": {},
   "source": [
    "<div style=\"font-size: 2rem; padding: 2rem; line-height: 3rem;\">\n",
    "    <p>Project initialized with Vite.</p>\n",
    "    <p>I used the tipical Vue libraries for studying purposes:</p>\n",
    "    <ul>\n",
    "        <li><a href=\"#router\">Vue-Router</a></li>\n",
    "        <li><a href=\"#pinia\">Pinia</a></li>\n",
    "        <li><a href=\"#vuetify\">Vuetify</a></li>\n",
    "    </ul>\n",
    "    <p>This is the visual rapresentation of the frameworks usage logic:</p>\n",
    "        \n",
    "</div>"
   ]
  },
  {
   "cell_type": "markdown",
   "id": "38a8af9c",
   "metadata": {},
   "source": [
    "<img src=\"risorsa1.svg\" />"
   ]
  },
  {
   "cell_type": "markdown",
   "id": "795da762",
   "metadata": {},
   "source": [
    "<div style=\"font-size: 2rem; padding: 2rem; line-height: 3rem;\">\n",
    "    <p>\n",
    "        The first step is to install all the libraries (wich I'm not gonna write the npm's here) and configure the\n",
    "        <em style=\"color: white; background-color: black; padding: 0.5rem;\">`Main.ts`</em>\n",
    "        as it follows:\n",
    "    </p>\n",
    "</div>"
   ]
  },
  {
   "cell_type": "code",
   "execution_count": null,
   "id": "e652b924",
   "metadata": {},
   "outputs": [],
   "source": [
    "import { createApp } from 'vue'\n",
    "import App from './App.vue'\n",
    "\n",
    "import './style.css'\n",
    "\n",
    "\n",
    "\n",
    "const app = createApp(App)\n",
    "app.mount('#app')"
   ]
  },
  {
   "cell_type": "markdown",
   "id": "6402d6c1",
   "metadata": {},
   "source": [
    "<div style=\"font-size: 2rem; padding: 2rem; line-height: 3rem;\">\n",
    "<p>\n",
    "    In the beginning we should have a basic template but i removed everything besides my \n",
    "    <em style=\"color: white; background-color: black; padding: 0.5rem;\">`App.vue`</em>,\n",
    "    where i've left something very basic like an \"Hello World\"\n",
    "</p>\n",
    "    \n",
    "<ul>\n",
    "    <li>Then i choosed the right libreries to use and i started with the <em style=\"text-decoration: underline;\">routings</em>, knowing i will only have an index and a login page.</li>\n",
    "    <li>After the routings i choosed an <em style=\"text-decoration: underline;\">UI library</em> and i tried Vuetify wich is very similiar to MUI for React</li>\n",
    "    <li>Then, later in the project i realized that a <em style=\"text-decoration: underline;\">state management framework</em> would help so i choosed Pinia wich is the currently official library for vue (4/16/23)</li>\n",
    "</ul>\n",
    "\n",
    "<h4 style=\"line-height: 0.5rem;\">Check the <a href=\"#router\">Router config</a> section to see how i configured it.</h4>\n",
    "<h4 style=\"line-height: 0.5rem;\">Check the <a href=\"#vuetify\">Vuetify config</a> section to see how i configured it.</h4>\n",
    "<h4 style=\"line-height: 0.5rem;\">Check the <a href=\"#pinia\">Pinia config</a> section to see how i configured it.</h4>\n",
    "    \n",
    "</div>"
   ]
  },
  {
   "cell_type": "code",
   "execution_count": null,
   "id": "8add8063",
   "metadata": {},
   "outputs": [],
   "source": [
    "import { createApp } from 'vue'    # --- Vue initializator\n",
    "import router from './router'   # --- router obj\n",
    "import App from './App.vue'   # --- App where everything happens\n",
    "\n",
    "import './style.css'   # --- My Style\n",
    "import vuetify from './theme/vuetify'   # --- Vuetify components\n",
    "import '@mdi/font/css/materialdesignicons.css'   # --- Vuetify icons\n",
    "\n",
    "\n",
    "import { createPinia } from 'pinia'   # --- Pinia initializer\n",
    "\n",
    "\n",
    "\n",
    "const app = createApp(App)   # --- Whole app instance\n",
    "const pinia = createPinia()   # --- Pinia instance\n",
    "\n",
    "app.use(pinia)\n",
    "app.use(vuetify)\n",
    "app.use(router)\n",
    "app.mount('#app')"
   ]
  },
  {
   "cell_type": "markdown",
   "id": "f65c8cda",
   "metadata": {},
   "source": [
    "<br>\n",
    "<br>\n",
    "<br>"
   ]
  },
  {
   "cell_type": "markdown",
   "id": "09dd78a2",
   "metadata": {},
   "source": [
    "<h2 style=\"\n",
    "    font-size: 2.6rem; \n",
    "   color: white;\n",
    "    background-color: black;\n",
    "    padding: 2rem;\n",
    "\" id=\"router\">\n",
    "    ROUTER\n",
    "</h2>"
   ]
  },
  {
   "cell_type": "markdown",
   "id": "e7f5c269",
   "metadata": {},
   "source": [
    "<div style=\"font-size: 2rem; padding: 2rem; line-height: 3rem;\">\n",
    "    <p>\n",
    "        This is the basic vue-router configuration:\n",
    "    </p>\n",
    "</div>"
   ]
  },
  {
   "cell_type": "code",
   "execution_count": null,
   "id": "e496eb20",
   "metadata": {},
   "outputs": [],
   "source": [
    "import { createRouter, createWebHistory } from 'vue-router'\n",
    "import Index from './views/Index.vue'\n",
    "import Login from './views/Login.vue'\n",
    "\n",
    "\n",
    "const routes = [\n",
    "    { path: '/', component: Index },\n",
    "    { path: '/login', component: Login },\n",
    "]\n",
    "\n",
    "const router = createRouter({\n",
    "    history: createWebHistory(),\n",
    "    routes\n",
    "})\n",
    "\n",
    "\n",
    "export default router"
   ]
  },
  {
   "cell_type": "markdown",
   "id": "bc1a108a",
   "metadata": {},
   "source": [
    "<div style=\"font-size: 2rem; padding: 2rem; line-height: 3rem;\">\n",
    "    <p>\n",
    "        This is gonna be interesting to use with Pinia because if you want to use a pinia state over a routing options you have to use it <b>inside</b> the <em style=\"text-decoration: underline;\">router.beforeEach()</em> function. I solved it in this way:\n",
    "    </p>\n",
    "</div>"
   ]
  },
  {
   "cell_type": "markdown",
   "id": "a9946d3d",
   "metadata": {},
   "source": [
    "<p>--- The router.ts page:</p>"
   ]
  },
  {
   "cell_type": "code",
   "execution_count": null,
   "id": "40ad6e3b",
   "metadata": {},
   "outputs": [],
   "source": [
    "import Index from './views/Index.vue'\n",
    "import Login from './views/Login.vue'\n",
    "import { useAuthStore } from './stores/authStore'\n",
    "import { createRouter, createWebHistory } from 'vue-router'\n",
    "\n",
    "\n",
    "const routes = [\n",
    "    { path: '/', component: Index, meta: {isAuth: true} },\n",
    "    { path: '/login', component: Login, meta: {isAuth: false} },\n",
    "]\n",
    "\n",
    "const router = createRouter({\n",
    "    history: createWebHistory(),\n",
    "    routes\n",
    "})\n",
    "\n",
    "router.beforeEach((to, from, next) => {\n",
    "    const authStore = useAuthStore()\n",
    "    \n",
    "    if (to.path !== '/login' && !authStore.isAuth) next('/login')\n",
    "    else if (to.path === '/login' && authStore.isAuth) next('/')\n",
    "    else next()\n",
    "})\n",
    "\n",
    "\n",
    "export default router"
   ]
  },
  {
   "cell_type": "markdown",
   "id": "997fa3f9",
   "metadata": {},
   "source": [
    "<br>"
   ]
  },
  {
   "cell_type": "markdown",
   "id": "2ce3db39",
   "metadata": {},
   "source": [
    "<p>--- The Login.vue method to navigate through vue-router pages:</p>"
   ]
  },
  {
   "cell_type": "code",
   "execution_count": null,
   "id": "c6e1fe66",
   "metadata": {},
   "outputs": [],
   "source": [
    "import { getCurrentInstance, ComponentInternalInstance } from 'vue'\n",
    "const instance: ComponentInternalInstance = getCurrentInstance() as ComponentInternalInstance\n",
    "\n",
    "instance.proxy?.$router.push('/')   # --- Where '/' is the destination page when you login.\n",
    "\n",
    "\n",
    "# --- I used the Options API but if you prefer you can access to the same obj through `this.$router` \n",
    "# --- but only if you use it in the methods section or directly into the vue template"
   ]
  },
  {
   "cell_type": "markdown",
   "id": "2972d583",
   "metadata": {},
   "source": [
    "<br>\n",
    "<br>\n",
    "<br>\n"
   ]
  },
  {
   "cell_type": "markdown",
   "id": "3ed6d5d3",
   "metadata": {},
   "source": [
    "<h2 style=\"\n",
    "    font-size: 2.6rem; \n",
    "   color: white;\n",
    "    background-color: black;\n",
    "    padding: 2rem;\n",
    "\" id=\"vuetify\">\n",
    "    VUETIFY\n",
    "</h2>"
   ]
  },
  {
   "cell_type": "markdown",
   "id": "3765c1fd",
   "metadata": {},
   "source": [
    "<div style=\"font-size: 2rem; padding: 2rem; line-height: 2rem;\">\n",
    "    <p>90% of html you see it's from Vuetify wich helped me build the interface i wanted.</p>\n",
    "    <p>After you use it in your main.ts as shown in the config section, you could use every <v-component> inside your app.</p>\n",
    "    <p>It helped me with design and responsiveness, i configured it as it follows:</p>\n",
    "</div>"
   ]
  },
  {
   "cell_type": "markdown",
   "id": "af3322bf",
   "metadata": {},
   "source": [
    "<p>---/theme/vuetify.ts</p>"
   ]
  },
  {
   "cell_type": "code",
   "execution_count": null,
   "id": "1ace176d",
   "metadata": {},
   "outputs": [],
   "source": [
    "import 'vuetify/styles'\n",
    "import { createVuetify, VuetifyOptions } from 'vuetify'\n",
    "import * as components from 'vuetify/components'\n",
    "import * as directives from 'vuetify/directives'\n",
    "\n",
    "import themes from './themes'\n",
    "\n",
    "console.log(createVuetify())\n",
    "const vuetify = createVuetify({\n",
    "    theme: {\n",
    "        defaultTheme: 'dark',\n",
    "        themes: themes,\n",
    "    },\n",
    "    components,\n",
    "    directives,\n",
    "    display: {\n",
    "        thresholds: {\n",
    "            xs: 380,\n",
    "            sm: 500,\n",
    "            md: 850,\n",
    "            lg: 1015,\n",
    "            xl: 1920,\n",
    "            xxl: 2560,\n",
    "        }\n",
    "    }\n",
    "})\n",
    "\n",
    "\n",
    "export default vuetify"
   ]
  },
  {
   "cell_type": "markdown",
   "id": "c1509ea7",
   "metadata": {},
   "source": [
    "<p>Where the object themes is the onw shown below:</p>"
   ]
  },
  {
   "cell_type": "code",
   "execution_count": null,
   "id": "402a9667",
   "metadata": {},
   "outputs": [],
   "source": [
    "const themes = {\n",
    "    dark: {\n",
    "        colors: {\n",
    "            primary: \"#607d8b\",\n",
    "            secondary: \"#009688\",\n",
    "            accent: \"#673ab7\",\n",
    "            error: \"#f59b42\", //\"#f44336\",\n",
    "            warning: \"#ff9800\",\n",
    "            info: \"#cddc39\",\n",
    "            success: \"#8bc34a\"\n",
    "        }\n",
    "    },\n",
    "    light: {\n",
    "        colors: {\n",
    "            primary: \"#607d8b\",\n",
    "            secondary: \"#009688\",\n",
    "            accent: \"#673ab7\",\n",
    "            error: \"#f44336\",\n",
    "            warning: \"#ff9800\",\n",
    "            info: \"#cddc39\",\n",
    "            success: \"#8bc34a\"\n",
    "        }\n",
    "    }\n",
    "}\n",
    "\n",
    "\n",
    "\n",
    "export default themes"
   ]
  },
  {
   "cell_type": "markdown",
   "id": "c7ce6436",
   "metadata": {},
   "source": [
    "<br>\n",
    "<br>\n",
    "<br>"
   ]
  },
  {
   "cell_type": "markdown",
   "id": "1c094fc7",
   "metadata": {},
   "source": [
    "<h2 style=\"\n",
    "    font-size: 2.6rem; \n",
    "   color: white;\n",
    "    background-color: black;\n",
    "    padding: 2rem;\n",
    "\" id=\"pinia\">\n",
    "    PINIA\n",
    "</h2>"
   ]
  },
  {
   "cell_type": "markdown",
   "id": "ef084782",
   "metadata": {},
   "source": [
    "<div style=\"font-size: 2rem; padding: 2rem; line-height: 2rem;\">\n",
    "    <p>I have 4 stores in Pinia:</p>\n",
    "    <p><em style=\"color: white; background-color: black; padding: 0.5rem;\">`authStore.ts`</em></p>\n",
    "    <p style=\"padding-left:3rem;\">\n",
    "        Is where i save the logins / signin inputs information and if the user is logged through an axios call inside the actions of the store itself\n",
    "    </p>\n",
    "    <br/>\n",
    "    <p><em style=\"color: white; background-color: black; padding: 0.5rem;\">`addEditStore.ts`</em></p>\n",
    "    <p style=\"padding-left:3rem;\">Is where i save the inputs value of the window i use both for adding and editing a Todo.</p>\n",
    "    <p style=\"padding-left:3rem;\">I will have all the values that a todo has and a state that monitors if the addTodoWindow is opened. Same for the actions, i won't have an \"addTodo\" action because that is gonna be the todosStore job.</p>\n",
    "    <br/>\n",
    "    <p><em style=\"color: white; background-color: black; padding: 0.5rem;\">`categoriesStore.ts`</em></p>\n",
    "    <p style=\"padding-left:3rem;\">Is where i save the categories called through Axios and the state of the selected category.</p>\n",
    "    <p style=\"padding-left:3rem;\">I will have two actions: editAddCategory that allows me to add or edit a category based on the id i will receive as parameter (one function for two actions because the event that trigger both of actions is the same) and setSelectedCategory wich will update the selected category for filtering purposes\n",
    "    </p>\n",
    "    <p style=\"padding-left:3rem;\">\n",
    "        Category Store will need todosStore because as soon the category is edited, js will loop through all the cards and update the values of the category\n",
    "    </p>\n",
    "    <br/>\n",
    "    <br/>\n",
    "    <p><em style=\"color: white; background-color: black; padding: 0.5rem;\">`todosStore.ts`</em></p>\n",
    "    <p style=\"padding-left:3rem;\">This is where the fun happens and where 3/4 of the app runs.</p>\n",
    "    <p style=\"padding-left:3rem;\">Todo Store will need both categoriesStore and addEditStore to:</p>\n",
    "    <ul>\n",
    "        <li>Editing or Adding the category selected in the categorieslist <em style=\"color: white; background-color: gray; padding: 0.1rem;\">(categoriesStore)</em></li>\n",
    "        <li>Get a specific card information (when you click on edit) and bring them update the <em style=\"color: white; background-color: gray; padding: 0.1rem;\">addEditStore</em> so that the addEditWindow opens up with the inputs already filled</li>\n",
    "        <li>Reset the values of the addEditWindow after adding a Todo <em style=\"color: white; background-color: gray; padding: 0.1rem;\">(addEditStore)</em></li>\n",
    "    </ul>\n",
    "    <br/>\n",
    "    <p style=\"padding-left:3rem;\">The store is divided in cardsDone and cardsUndone for moving myself faster in rendering approaches</p>\n",
    "    \n",
    "</div>"
   ]
  },
  {
   "cell_type": "code",
   "execution_count": null,
   "id": "cc29594c",
   "metadata": {},
   "outputs": [],
   "source": [
    "addTodo(title: string, category: string, text: string, color: string, id: null|number) {\n",
    "            if (title==='' || category==='' || text==='') return\n",
    "            \n",
    "            \n",
    "            if (id===null) {\n",
    "                # --- Axios post, AWAIT and then push with new id (no 99)\n",
    "                \n",
    "                    useCategoriesStore().editAddCategory(category, color)\n",
    "                    this.cardsUndone.push({\n",
    "                        id: 99, title: title, category: category, text: text, isDone: false, color: color\n",
    "                    })\n",
    "            }\n",
    "    \n",
    "    \n",
    "            else {\n",
    "                const undoneIndex = this.cardsUndone.findIndex(obj => obj.id===id)\n",
    "                const doneIndex = this.cardsDone.findIndex(obj => obj.id===id)\n",
    "\n",
    "                if(undoneIndex === -1 && doneIndex !== -1) {\n",
    "                    useCategoriesStore().editAddCategory(category, color)\n",
    "                    # --- Axios post categories\n",
    "                    this.cardsDone[doneIndex].title = title;\n",
    "                    this.cardsDone[doneIndex].category = category;\n",
    "                    this.cardsDone[doneIndex].text = text;\n",
    "                    this.cardsDone[doneIndex].color = color;\n",
    "                }\n",
    "                else if(undoneIndex !== -1 && doneIndex === -1) {\n",
    "                    useCategoriesStore().editAddCategory(category, color)\n",
    "                    # --- Axios post categories\n",
    "                    this.cardsUndone[undoneIndex].title = title;\n",
    "                    this.cardsUndone[undoneIndex].category = category;\n",
    "                    this.cardsUndone[undoneIndex].text = text;\n",
    "                    this.cardsUndone[undoneIndex].color = color;\n",
    "                }\n",
    "                else {\n",
    "                    console.log('There has been an error during the add / edit of your tasks, it seems you card is undone and done at the same time')\n",
    "                }\n",
    "            }\n",
    "            useAddEditTodoStore().resetInputs()\n",
    "        }"
   ]
  },
  {
   "cell_type": "markdown",
   "id": "4efd5107",
   "metadata": {},
   "source": [
    "<div style=\"font-size: 2rem; padding: 2rem; line-height: 2rem; background-color: yellow\">\n",
    "    <p>Here i receive an id by the only call of addTodo i have: on the <p><em style=\"color: white; background-color: black; padding: 0.5rem;\">`WindowAddTodoStore.vue`</em>.</p>\n",
    "    <br/>\n",
    "    <p>This will be this.todosStore.addTodo(title, category, text, color, this.addEditTodoStore.id)</p>\n",
    "    <p>The id will always be from the addEditStore because:</p>\n",
    "    <ol>\n",
    "        <li>The default id will be null, so when i open the window to add a todo there will be a null id</li>\n",
    "        <li>When i click the edit menu-button, i will call the function that will set the id to the selected editing todo.</li>\n",
    "        <li>When i add a todo or close the window the values will be reset and id will go back to null</li>\n",
    "    </ol>\n",
    "</div>"
   ]
  }
 ],
 "metadata": {
  "kernelspec": {
   "display_name": "Python 3 (ipykernel)",
   "language": "python",
   "name": "python3"
  },
  "language_info": {
   "codemirror_mode": {
    "name": "ipython",
    "version": 3
   },
   "file_extension": ".py",
   "mimetype": "text/x-python",
   "name": "python",
   "nbconvert_exporter": "python",
   "pygments_lexer": "ipython3",
   "version": "3.11.1"
  }
 },
 "nbformat": 4,
 "nbformat_minor": 5
}
